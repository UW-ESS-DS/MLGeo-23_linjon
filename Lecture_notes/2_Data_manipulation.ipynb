{
 "cells": [
  {
   "cell_type": "code",
   "execution_count": null,
   "metadata": {},
   "outputs": [],
   "source": []
  },
  {
   "cell_type": "markdown",
   "metadata": {},
   "source": [
    "# 2. Data Manipulation\n",
    "\n",
    "## Definitions\n",
    "\n",
    "* **Data type** refers to the kind or modality of data. Some examples:\n",
    "    * Structured, or *quantitative* data - floats and integers\n",
    "    * Unstructured, or *qualitative* or categorical data - strings, audio, images, etc.\n",
    "* **Data format** refers to the file type used to encode the data.\n",
    "* **Data frame** refers to a tabular structure within which data is organized as a 2-D array.\n",
    "* **Data schema** refers to the way in which the data is laid out in a data frame.\n",
    "* **Data structures** are tabular arrays of data with a bunch of associated metadata.\n",
    "* **Dimensionality** refers to the modalities of the data (e.g. spatial, temporal, etc.)\n",
    "\n",
    "\n",
    "## Data formats\n",
    "\n",
    "Different data types are best stored in different data formats.\n",
    "\n",
    "For tabular data:\n",
    " * `.csv`\n",
    " * Parquet\n",
    "\n",
    "For nstructured, non-relational data:\n",
    "* `JSON`: JavaScript Object Notation, an open standard file format that uses human-readable text. The data may be attribute-value pairs and arrays. It is language-independent. The syntax looks like this:\n",
    "\n",
    "                    {\n",
    "                    \"firstName\": \"John\",\n",
    "                    \"lastName\": \"Smith\",\n",
    "                    \"isAlive\": true,\n",
    "                    \"age\": 27,\n",
    "                    \"address\": {\n",
    "                        \"streetAddress\": \"21 2nd Street\",\n",
    "                        \"city\": \"New York\",\n",
    "                        \"state\": \"NY\",\n",
    "                        \"postalCode\": \"10021-3100\"\n",
    "                    }\n",
    "\n",
    "For pixelized raster data (can be read using `rasterio`):\n",
    "* `GeoTIFF`: metadata standard that allows for georeferencing information embedded in a TIFF (Tagged Image File Format) file. GeoTIFF is enhanced to be cloud optimized.\n",
    "* `GeoJSON`: GeoJSON is a format for encoding a variety of geographic data structures in the JSON format.\n",
    "\n",
    "For big heterogeneous data wth different data types:\n",
    "* `NetCDF4`\n",
    "* `HDF5`\n",
    "* `Zarr`\n",
    "\n"
   ]
  },
  {
   "cell_type": "markdown",
   "metadata": {},
   "source": [
    "This notebook didn't get completed beyond this point. \n",
    "\n",
    "### Reading GeoTIFF raster data with rasterio\n",
    "\n",
    "Here an example of reading a GeoTIFF:"
   ]
  },
  {
   "cell_type": "code",
   "execution_count": 18,
   "metadata": {},
   "outputs": [],
   "source": [
    "#libraries needed\n",
    "import requests, zipfile , os, io\n",
    "import folium\n",
    "import geopandas as gpd\n",
    "import matplotlib.pyplot as plt\n",
    "import numpy as np\n",
    "import pandas as pd\n",
    "#import pycrs\n",
    "import h5py\n",
    "import rasterio\n",
    "import netCDF4 as nc\n",
    "import wget\n",
    "\n",
    "\n",
    "from folium.plugins import MarkerCluster\n",
    "from rasterio.mask import mask\n",
    "from rasterio.plot import show"
   ]
  },
  {
   "cell_type": "markdown",
   "metadata": {},
   "source": [
    "Next we want to download the data file, rename it, unzip it if needed, and then place it in the right location to use here. "
   ]
  },
  {
   "cell_type": "code",
   "execution_count": 6,
   "metadata": {},
   "outputs": [],
   "source": [
    "# download the data with wget\n",
    "\n",
    "fname = 'HYP_50M_SR'\n",
    "wget.download(\"https://www.dropbox.com/s/j5lxhd8uxrtsxko/\"+str(fname)+\"?dl=1\") # note the last character as a string to request the file itself\n",
    "\n",
    "#This will be saved to the lecture notes folder, but we want to put it in a new folder for data associated with these notes with the following command:\n",
    "\n",
    "os.replace(fname + '.tif', './data_for_notes/' + fname + '.tif')"
   ]
  },
  {
   "cell_type": "markdown",
   "metadata": {},
   "source": []
  },
  {
   "cell_type": "markdown",
   "metadata": {},
   "source": [
    "Now we have the .tif file in the data folder. Next we want to get the Digital Elevation Map out of it using rasterio. Some basic commands to use here:"
   ]
  },
  {
   "cell_type": "code",
   "execution_count": 17,
   "metadata": {},
   "outputs": [],
   "source": [
    "elevation = rasterio.open(\"./data_for_notes/\" + fname + \".tif\")\n"
   ]
  },
  {
   "cell_type": "code",
   "execution_count": null,
   "metadata": {},
   "outputs": [],
   "source": []
  },
  {
   "cell_type": "code",
   "execution_count": null,
   "metadata": {},
   "outputs": [],
   "source": []
  }
 ],
 "metadata": {
  "kernelspec": {
   "display_name": "Python 3",
   "language": "python",
   "name": "python3"
  },
  "language_info": {
   "codemirror_mode": {
    "name": "ipython",
    "version": 3
   },
   "file_extension": ".py",
   "mimetype": "text/x-python",
   "name": "python",
   "nbconvert_exporter": "python",
   "pygments_lexer": "ipython3",
   "version": "3.9.13"
  }
 },
 "nbformat": 4,
 "nbformat_minor": 2
}
