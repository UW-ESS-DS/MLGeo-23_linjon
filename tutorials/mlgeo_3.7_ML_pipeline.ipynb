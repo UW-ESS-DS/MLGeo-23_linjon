{
 "cells": [
  {
   "cell_type": "markdown",
   "metadata": {},
   "source": [
    "# Automated Machine Learning Pipeline\n",
    "\n",
    "## ML pipeline\n",
    "\n",
    "The overall ML project pipeline is:\n",
    "* Exploratory Data Processing\n",
    "* Data Preprocessing (pca, data transforms, feature engineering)\n",
    "* Model design&training\n",
    "    - choose loss function\n",
    "    - choose algorithm and its hyperparameters:\n",
    "        In general, favor the most parsimonuous model that explains the majority of the data. Generate a model that has a high degree of interpretability, generalization, and predictive capabilities.\n",
    "    - Split train-test \n",
    "    - train\n",
    "\n",
    "* Model evaluation\n",
    "\n",
    "Did the model perform well? If not:\n",
    "    - Perform automated hyperparameter tuning using grid search or randomized search.\n",
    "    - Choose another algorithm. One approach is to try others manuall and compare performance. Another approach is to do a systematic search, called **autoML**, and choose the model that performs the best.\n",
    "   \n",
    "\n",
    "\n",
    "\n"
   ]
  },
  {
   "cell_type": "markdown",
   "metadata": {},
   "source": [
    "\n",
    "## AutoML: Selection of best model\n",
    "Automatic ML is the field of machine learning that seeks to find the optimal choice of machine-learning pipeline to \n",
    "\n",
    "There are several leading automated ML pipelines.\n",
    "\n",
    "* [auto-sklearn](!https://automl.github.io/auto-sklearn/master/): a scikit-learn style automated ML pipeline. It won competitions for automated ML pipeline. Feurer et al, 2015;2020.\n",
    "\n",
    "\n",
    "![auto-sklearn](autosklearn.png)\n",
    "\n",
    "\n",
    "Currently installed in the jupyterhub docker image, but requires more memory to run on the digits data. Difficult to use with Mac OSX.\n",
    "\n",
    "* H2O\n",
    "\n",
    "* [Pacaret](!https://github.com/pycaret/pycaret) (requires sklearn < 0.23)\n"
   ]
  },
  {
   "cell_type": "code",
   "execution_count": null,
   "metadata": {},
   "outputs": [],
   "source": [
    "!pip install auto-sklearn"
   ]
  },
  {
   "cell_type": "code",
   "execution_count": null,
   "metadata": {},
   "outputs": [],
   "source": [
    "import numpy as np\n",
    "import sklearn\n",
    "from sklearn.datasets import load_digits\n",
    "from sklearn.preprocessing import MinMaxScaler\n",
    "from sklearn.model_selection import train_test_split\n",
    "digits = load_digits()\n",
    "data,y = digits[\"data\"].copy(),digits[\"target\"].copy()\n",
    "scaler = MinMaxScaler()\n",
    "scaler.fit_transform(data)# fit the model for data normalization\n",
    "newdata = scaler.transform(data) # transform the data. watch that data was converted to a numpy array\n",
    "\n",
    "X_train, X_test, y_train, y_test = train_test_split(\n",
    "    data, y, test_size=0.2, shuffle=False)\n"
   ]
  },
  {
   "cell_type": "code",
   "execution_count": null,
   "metadata": {},
   "outputs": [],
   "source": [
    "from autosklearn.experimental.askl2 import AutoSklearn2Classifier\n",
    "from autosklearn.metrics import roc_auc\n",
    "cls = autosklearn.classification.AutoSklearnClassifier()\n",
    "cls.fit(X_train, y_train)\n",
    "y_test_pred = cls.predict(X_test)\n",
    "print(\"Accuracy score\", sklearn.metrics.accuracy_score(y_test, y_test_pred))"
   ]
  },
  {
   "cell_type": "markdown",
   "metadata": {},
   "source": []
  }
 ],
 "metadata": {
  "kernelspec": {
   "display_name": "Python 3.9.6 ('madrona')",
   "language": "python",
   "name": "python3"
  },
  "language_info": {
   "codemirror_mode": {
    "name": "ipython",
    "version": 3
   },
   "file_extension": ".py",
   "mimetype": "text/x-python",
   "name": "python",
   "nbconvert_exporter": "python",
   "pygments_lexer": "ipython3",
   "version": "3.9.6"
  },
  "orig_nbformat": 4,
  "vscode": {
   "interpreter": {
    "hash": "1c2df93b363d800c8a9b94963221f1be1d8deaf6a76f83b6b9a486ad05d69583"
   }
  }
 },
 "nbformat": 4,
 "nbformat_minor": 2
}
